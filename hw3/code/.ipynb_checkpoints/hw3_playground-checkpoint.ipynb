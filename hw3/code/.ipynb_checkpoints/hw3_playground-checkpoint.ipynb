{
 "cells": [
  {
   "cell_type": "code",
   "execution_count": 57,
   "metadata": {},
   "outputs": [],
   "source": [
    "import os\n",
    "import math\n",
    "import pandas as pd\n",
    "import numpy as np"
   ]
  },
  {
   "cell_type": "markdown",
   "metadata": {},
   "source": [
    "### Read in Data"
   ]
  },
  {
   "cell_type": "code",
   "execution_count": 58,
   "metadata": {},
   "outputs": [
    {
     "name": "stdout",
     "output_type": "stream",
     "text": [
      "/Users/arminbazarjani/Desktop/CurrentClasses/csci561/homework/hw3/code\n",
      "/Users/arminbazarjani/Desktop/CurrentClasses/csci561/homework/hw3\n",
      "/Users/arminbazarjani/Desktop/CurrentClasses/csci561/homework/hw3/data\n"
     ]
    }
   ],
   "source": [
    "path = os.getcwd()\n",
    "print(path)\n",
    "path = os.path.normpath(os.getcwd() + os.sep + os.pardir)\n",
    "print(path)\n",
    "path += '/data'\n",
    "print(path)"
   ]
  },
  {
   "cell_type": "code",
   "execution_count": 59,
   "metadata": {},
   "outputs": [],
   "source": [
    "trainX_in = pd.read_csv(filepath_or_buffer=path+'/train_image.csv', header=None)\n",
    "trainY_in = pd.read_csv(filepath_or_buffer=path+'/train_label.csv', header=None)\n",
    "testX_in = pd.read_csv(filepath_or_buffer=path+'/test_image.csv', header=None)\n",
    "testY_in = pd.read_csv(filepath_or_buffer=path+'/test_label.csv', header=None)"
   ]
  },
  {
   "cell_type": "code",
   "execution_count": 60,
   "metadata": {},
   "outputs": [
    {
     "name": "stdout",
     "output_type": "stream",
     "text": [
      "trainX shape: (60000, 784) \n",
      "trainY shape: (60000, 1) \n",
      "testX shape: (10000, 784) \n",
      "testY shape: (10000, 1)\n"
     ]
    }
   ],
   "source": [
    "# output shapes\n",
    "print(f'trainX shape: {trainX_in.shape} \\ntrainY shape: {trainY_in.shape} \\ntestX shape: {testX_in.shape} \\ntestY shape: {testY_in.shape}')\n"
   ]
  },
  {
   "cell_type": "code",
   "execution_count": 61,
   "metadata": {},
   "outputs": [],
   "source": [
    "# Transpose the matrices to make it fit\n",
    "trainX = trainX_in.T\n",
    "trainY = trainY_in.T\n",
    "testX = testX_in.T\n",
    "testY = testY_in.T"
   ]
  },
  {
   "cell_type": "code",
   "execution_count": 62,
   "metadata": {},
   "outputs": [],
   "source": [
    "# convert pandas dataframes to numpy arrays\n",
    "trainX = trainX.values\n",
    "trainY = trainY.values"
   ]
  },
  {
   "cell_type": "code",
   "execution_count": 63,
   "metadata": {},
   "outputs": [],
   "source": [
    "testX = testX.to_numpy()\n",
    "testY = testY.to_numpy()"
   ]
  },
  {
   "cell_type": "code",
   "execution_count": 64,
   "metadata": {},
   "outputs": [],
   "source": [
    "# convert y matrix to one hot\n",
    "onehotY = np.zeros((trainY.size, trainY.max()+1))\n",
    "onehotY[np.arange(trainY.size), trainY] = 1\n",
    "onehotY = onehotY.T"
   ]
  },
  {
   "cell_type": "code",
   "execution_count": 65,
   "metadata": {},
   "outputs": [
    {
     "name": "stdout",
     "output_type": "stream",
     "text": [
      "(10, 60000)\n"
     ]
    }
   ],
   "source": [
    "print(onehotY.shape)"
   ]
  },
  {
   "cell_type": "code",
   "execution_count": 66,
   "metadata": {},
   "outputs": [],
   "source": [
    "onehotY_test = np.zeros((testY.size, testY.max()+1))\n",
    "onehotY_test[np.arange(testY.size), testY] = 1\n",
    "onehotY_test = onehotY_test.T"
   ]
  },
  {
   "cell_type": "code",
   "execution_count": 67,
   "metadata": {},
   "outputs": [
    {
     "name": "stdout",
     "output_type": "stream",
     "text": [
      "(10, 10000)\n"
     ]
    }
   ],
   "source": [
    "print(onehotY_test.shape)"
   ]
  },
  {
   "cell_type": "code",
   "execution_count": 68,
   "metadata": {},
   "outputs": [],
   "source": [
    "trainX = trainX[:,:10000]\n",
    "onehotY = onehotY[:,:10000]"
   ]
  },
  {
   "cell_type": "code",
   "execution_count": 69,
   "metadata": {},
   "outputs": [
    {
     "name": "stdout",
     "output_type": "stream",
     "text": [
      "(784, 10000)\n",
      "(10, 10000)\n"
     ]
    }
   ],
   "source": [
    "print(trainX.shape)\n",
    "print(onehotY.shape)"
   ]
  },
  {
   "cell_type": "code",
   "execution_count": 70,
   "metadata": {},
   "outputs": [
    {
     "name": "stdout",
     "output_type": "stream",
     "text": [
      "10000\n"
     ]
    }
   ],
   "source": [
    "print(len(trainX[1]))"
   ]
  },
  {
   "cell_type": "code",
   "execution_count": 71,
   "metadata": {},
   "outputs": [],
   "source": [
    "# shuffle fun\n",
    "random = np.arange(len(trainX[1]))\n",
    "np.random.shuffle(random)\n",
    "trainX_shuffle = trainX[:,random]\n",
    "onehotY_shuffle = onehotY[:,random]"
   ]
  },
  {
   "cell_type": "code",
   "execution_count": 72,
   "metadata": {},
   "outputs": [
    {
     "name": "stdout",
     "output_type": "stream",
     "text": [
      "(784, 10000)\n",
      "(10, 10000)\n"
     ]
    }
   ],
   "source": [
    "print(trainX_shuffle.shape)\n",
    "print(onehotY_shuffle.shape)"
   ]
  },
  {
   "cell_type": "markdown",
   "metadata": {},
   "source": [
    "### Sanity Check using Matplotlib"
   ]
  },
  {
   "cell_type": "markdown",
   "metadata": {},
   "source": [
    "The shapes of the datasets check out. I think it's time to start initializing the neural network"
   ]
  },
  {
   "cell_type": "markdown",
   "metadata": {},
   "source": [
    "### Make The Neural Network and initialize the weights"
   ]
  },
  {
   "cell_type": "code",
   "execution_count": 82,
   "metadata": {},
   "outputs": [],
   "source": [
    "class MLP:\n",
    "    def __init__(self, batch_size, learning_rate, num_epochs):\n",
    "        self.batch_size = batch_size\n",
    "        self.learning_rate = learning_rate\n",
    "        self.num_epochs = num_epochs\n",
    "        \n",
    "        # intialize the weights and biases for the hidden layers\n",
    "        # Currently using a network with three hidden layers of size 256 128\n",
    "        self.params = {\n",
    "            'W1':np.random.randn(512, 784) / np.sqrt(784 / 2.0),\n",
    "            'b1':np.random.randn(512,1) / np.sqrt(784 / 2.0),\n",
    "            'W2':np.random.randn(256, 512) / np.sqrt(512 / 2.0),\n",
    "            'b2':np.random.randn(256,1) / np.sqrt(512 / 2.0),\n",
    "            'W3':np.random.randn(10, 256) / np.sqrt(256 / 2.0),\n",
    "            'b3':np.random.randn(10,1) / np.sqrt(256 / 2.0),\n",
    "            'W4':np.random.randn(10,256) * np.sqrt(1.0 / 256),\n",
    "            'b4':np.random.randn(10,1) * np.sqrt(1.0 / 256),\n",
    "            \n",
    "        }\n",
    "        \n",
    "    # define sigmoid activation function\n",
    "    def sigmoid(self, x):\n",
    "        return 1.0/(1.0 + np.exp(-x))\n",
    "    \n",
    "    # sigmoid backward\n",
    "    def sigmoid_backward(self, dA, Z):\n",
    "        sig = self.sigmoid(Z)\n",
    "        return dA * sig * (1 - sig)\n",
    "    \n",
    "    # define softmax activation function\n",
    "    def softmax(self, x):\n",
    "        exps = np.exp(x - x.max())\n",
    "        return exps / np.sum(exps, axis=0)\n",
    "    \n",
    "    # define cross-entropy cost function\n",
    "    def cross_entropy_loss(self, Y, out):\n",
    "        m = Y.shape[1]\n",
    "\n",
    "        cost = (-1 / m) * np.sum(np.multiply(Y, np.log(out)) + np.multiply(1 - Y, np.log(1 - out)))\n",
    "        cost = np.squeeze(cost)\n",
    "\n",
    "        return cost\n",
    "    \n",
    "    # compute accuracy of model given x and y inputs\n",
    "    def get_accuracy(self, X, y):\n",
    "        predictions = []\n",
    "\n",
    "        cache = self.forward_pass(X)\n",
    "        output = cache['A3']\n",
    "        pred = np.argmax(output, axis=0)\n",
    "        predictions.append(pred == np.argmax(y, axis=0))\n",
    "        \n",
    "        return np.mean(predictions)\n",
    "        \n",
    "    \n",
    "    # splits x and y into a list of mini-batches\n",
    "    def get_mini_batches(self, X, y, batch_size):\n",
    "        m = X.shape[1]\n",
    "        mini_batches = list()\n",
    "        num_batches = math.floor(m/batch_size)\n",
    "        for i in range(0, num_batches):\n",
    "            mb_X = X[:, i * batch_size : (i+1) * batch_size]\n",
    "            mb_y = y[:, i * batch_size : (i+1) * batch_size]\n",
    "            mini_batch = (mb_X, mb_y)\n",
    "            mini_batches.append(mini_batch)\n",
    "\n",
    "        # end case\n",
    "        if m % batch_size != 0:\n",
    "            mb_X = X[:, batch_size * math.floor(m / batch_size) : m]\n",
    "            mb_y = y[:, batch_size * math.floor(m / batch_size) : m]\n",
    "            mini_batch = (mb_X, mb_y)\n",
    "            mini_batches.append(mini_batch)\n",
    "\n",
    "        return mini_batches\n",
    "\n",
    "    \n",
    "    # forward pass\n",
    "    def forward_pass(self, X):\n",
    "        cache = dict()\n",
    "        \n",
    "        cache['Z1'] = np.dot(self.params['W1'], X) + self.params['b1']\n",
    "        cache['A1'] = self.sigmoid(cache['Z1'])\n",
    "        cache['Z2'] = np.dot(self.params['W2'], cache['A1']) + self.params['b2']\n",
    "        cache['A2'] = self.sigmoid(cache['Z2'])\n",
    "        cache['Z3'] = np.dot(self.params['W3'], cache['A2']) + self.params['b3']\n",
    "        cache['A3'] = self.softmax(cache['Z3'])\n",
    "        \n",
    "        return cache\n",
    "    \n",
    "    # backward pass\n",
    "    def backward_pass(self, X, Y, cache):\n",
    "        m = X.shape[1]\n",
    "        \n",
    "        # error at last layer\n",
    "        dZ3 = cache['A3'] - Y\n",
    "        \n",
    "        # gradients at last layer\n",
    "        m3 = cache[\"A2\"].shape[1]\n",
    "        dW3 = np.dot(dZ3, cache[\"A2\"].T) / m\n",
    "        db3 = np.sum(dZ3, axis=1, keepdims=True) / m\n",
    "        \n",
    "        # back propagate through first layer\n",
    "        dA2 = np.dot(self.params['W3'].T, dZ3)\n",
    "        dZ2 = self.sigmoid_backward(dA2, cache['Z2'])\n",
    "        \n",
    "        # gradients of middle layer\n",
    "        m2 = cache['A1'].shape[1]\n",
    "        dW2 = np.dot(dZ2, cache['A1'].T) / m\n",
    "        db2 = np.sum(dZ2, axis=1, keepdims=True) / m\n",
    "        \n",
    "        # back propagate through middle layer\n",
    "        dA1 = np.dot(self.params['W2'].T, dZ2)\n",
    "        dZ1 = self.sigmoid_backward(dA1, cache['Z1'])\n",
    "        \n",
    "        # gradients of first layer\n",
    "        m1 = X.shape[1]\n",
    "        dW1 = np.dot(dZ1, X.T) / m\n",
    "        db1 = np.sum(dZ1, axis=1, keepdims=True) / m\n",
    "    \n",
    "        grads = {'dW3':dW3, 'db3':db3, 'dW2':dW2, 'db2':db2, 'dW1':dW1, 'db1':db1}\n",
    "        \n",
    "        return grads\n",
    "        \n",
    "        \n",
    "    def train(self, X, y):\n",
    "        # loop through number of iterations\n",
    "        for i in range(0, self.num_epochs):\n",
    "            # shuffle X and y\n",
    "            random = np.arange(len(X[1]))\n",
    "            np.random.shuffle(random)\n",
    "            X_shuffle = X[:,random]\n",
    "            y_shuffle = y[:,random]\n",
    "            \n",
    "            # get mini-batches of X and y\n",
    "            mini_batches = self.get_mini_batches(X_shuffle, y_shuffle, self.batch_size)\n",
    "            \n",
    "            for mini_batch in mini_batches:\n",
    "                mb_x, mb_y = mini_batch\n",
    "                cache = self.forward_pass(mb_x)\n",
    "                grads = self.backward_pass(mb_x, mb_y, cache) \n",
    "\n",
    "                # update parameters\n",
    "                self.params['W1'] = self.params['W1'] - (self.learning_rate * grads['dW1'])\n",
    "                self.params['b1'] = self.params['b1'] - (self.learning_rate * grads['db1'])\n",
    "                self.params['W2'] = self.params['W2'] - (self.learning_rate * grads['dW2'])\n",
    "                self.params['b2'] = self.params['b2'] - (self.learning_rate * grads['db2'])\n",
    "                self.params['W3'] = self.params['W3'] - (self.learning_rate * grads['dW3'])\n",
    "                self.params['b3'] = self.params['b3'] - (self.learning_rate * grads['db3'])\n",
    "            \n",
    "            # calculate train accuracy after each epoch\n",
    "            train_accuracy = self.get_accuracy(X, y)\n",
    "            print(f'Training accuracy for epoch {i+1}: {train_accuracy}')"
   ]
  },
  {
   "cell_type": "code",
   "execution_count": 83,
   "metadata": {},
   "outputs": [],
   "source": [
    "# load that shit\n",
    "NeuralNetwork = MLP(batch_size=64, learning_rate=0.01, num_epochs=80)"
   ]
  },
  {
   "cell_type": "code",
   "execution_count": null,
   "metadata": {},
   "outputs": [
    {
     "name": "stderr",
     "output_type": "stream",
     "text": [
      "/opt/anaconda3/lib/python3.7/site-packages/ipykernel_launcher.py:23: RuntimeWarning: overflow encountered in exp\n"
     ]
    },
    {
     "name": "stdout",
     "output_type": "stream",
     "text": [
      "Training accuracy for epoch 1: 0.1326\n",
      "Training accuracy for epoch 2: 0.141\n",
      "Training accuracy for epoch 3: 0.1449\n",
      "Training accuracy for epoch 4: 0.1443\n",
      "Training accuracy for epoch 5: 0.1442\n",
      "Training accuracy for epoch 6: 0.1494\n",
      "Training accuracy for epoch 7: 0.1518\n",
      "Training accuracy for epoch 8: 0.1517\n",
      "Training accuracy for epoch 9: 0.1565\n",
      "Training accuracy for epoch 10: 0.159\n",
      "Training accuracy for epoch 11: 0.1614\n",
      "Training accuracy for epoch 12: 0.164\n",
      "Training accuracy for epoch 13: 0.1659\n",
      "Training accuracy for epoch 14: 0.1682\n",
      "Training accuracy for epoch 15: 0.1713\n",
      "Training accuracy for epoch 16: 0.1704\n",
      "Training accuracy for epoch 17: 0.1752\n",
      "Training accuracy for epoch 18: 0.1781\n",
      "Training accuracy for epoch 19: 0.1843\n",
      "Training accuracy for epoch 20: 0.1873\n",
      "Training accuracy for epoch 21: 0.1898\n"
     ]
    }
   ],
   "source": [
    "# train that shit\n",
    "NeuralNetwork.train(trainX, onehotY)"
   ]
  },
  {
   "cell_type": "code",
   "execution_count": null,
   "metadata": {},
   "outputs": [],
   "source": [
    "# get predictions on test\n",
    "test_accuracy = NeuralNetwork.get_accuracy(testX, onehotY_test)\n",
    "print(test_accuracy)"
   ]
  },
  {
   "cell_type": "code",
   "execution_count": null,
   "metadata": {},
   "outputs": [],
   "source": []
  }
 ],
 "metadata": {
  "kernelspec": {
   "display_name": "Python 3",
   "language": "python",
   "name": "python3"
  },
  "language_info": {
   "codemirror_mode": {
    "name": "ipython",
    "version": 3
   },
   "file_extension": ".py",
   "mimetype": "text/x-python",
   "name": "python",
   "nbconvert_exporter": "python",
   "pygments_lexer": "ipython3",
   "version": "3.7.4"
  }
 },
 "nbformat": 4,
 "nbformat_minor": 4
}
